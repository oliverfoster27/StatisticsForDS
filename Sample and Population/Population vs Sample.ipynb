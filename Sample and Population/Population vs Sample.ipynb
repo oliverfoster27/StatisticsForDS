{
 "cells": [
  {
   "cell_type": "markdown",
   "metadata": {},
   "source": [
    "# Population vs Sample"
   ]
  },
  {
   "cell_type": "markdown",
   "metadata": {},
   "source": [
    "### Population:\n",
    "- Collection of all items of interest (N)\n",
    "- The numbers obtained when using the population are called parameters\n",
    "- Hard to define & hard to observe in real life\n",
    "\n",
    "### Sample:\n",
    "- Subset of the population (n)\n",
    "- The numbers obtained when using the sample are called statistics\n",
    "- Less time consuming\n",
    "- Less costly (cheaper)\n",
    "\n",
    "You will almost always be working with sample data"
   ]
  },
  {
   "cell_type": "markdown",
   "metadata": {},
   "source": [
    "## Samples have two defining features:\n",
    "\n",
    "### Randomness:\n",
    "- A random sample is collected when each member of the sample is chosen from the population strictly by chance\n",
    "\n",
    "### Representativeness:\n",
    "- A representative sample is a subset of the population that accurately reflects the members of the entire population"
   ]
  },
  {
   "cell_type": "code",
   "execution_count": null,
   "metadata": {},
   "outputs": [],
   "source": []
  }
 ],
 "metadata": {
  "kernelspec": {
   "display_name": "Python 3",
   "language": "python",
   "name": "python3"
  },
  "language_info": {
   "codemirror_mode": {
    "name": "ipython",
    "version": 3
   },
   "file_extension": ".py",
   "mimetype": "text/x-python",
   "name": "python",
   "nbconvert_exporter": "python",
   "pygments_lexer": "ipython3",
   "version": "3.7.6"
  }
 },
 "nbformat": 4,
 "nbformat_minor": 2
}
