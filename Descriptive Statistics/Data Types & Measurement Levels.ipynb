{
 "cells": [
  {
   "cell_type": "markdown",
   "metadata": {},
   "source": [
    "# Data Types\n",
    "\n",
    "### Categorical\n",
    "- Describes categories or groups\n",
    "\n",
    "### Numerical\n",
    "- Represents either discrete or continuous numbers\n",
    "- Discrete: number of children you have\n",
    "- Continuous: the temperature outside"
   ]
  },
  {
   "cell_type": "markdown",
   "metadata": {},
   "source": [
    "# Measurement Levels\n",
    "\n",
    "### Qualitative\n",
    "#### Nominal\n",
    "- Arent numbers and cannot be ordered\n",
    "- The seasons, car types etc..\n",
    "\n",
    "#### Ordinal\n",
    "- Arent numbers but can be ordered\n",
    "- Rating food: disgusting, unappetizing, neutral, tasty, delicious\n",
    "\n",
    "### Quantitative\n",
    "\n",
    "#### Interval\n",
    "- Don't have a true 0\n",
    "- Farenheit, Celcius\n",
    "- Can't say 40 degrees C is double as hot as 20 degrees C because 0C is not a true 0\n",
    "\n",
    "#### Ratio\n",
    "- Have a true 0\n",
    "- Number of objects, distance, time\n",
    "- Kelvin\n",
    "- We can say 40K is double as hot as 20K because 0K is a true 0"
   ]
  },
  {
   "cell_type": "code",
   "execution_count": null,
   "metadata": {},
   "outputs": [],
   "source": []
  }
 ],
 "metadata": {
  "kernelspec": {
   "display_name": "Python 3",
   "language": "python",
   "name": "python3"
  },
  "language_info": {
   "codemirror_mode": {
    "name": "ipython",
    "version": 3
   },
   "file_extension": ".py",
   "mimetype": "text/x-python",
   "name": "python",
   "nbconvert_exporter": "python",
   "pygments_lexer": "ipython3",
   "version": "3.7.2"
  }
 },
 "nbformat": 4,
 "nbformat_minor": 2
}
