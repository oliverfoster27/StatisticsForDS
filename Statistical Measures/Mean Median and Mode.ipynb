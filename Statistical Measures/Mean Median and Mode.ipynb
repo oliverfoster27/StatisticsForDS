{
 "cells": [
  {
   "cell_type": "markdown",
   "metadata": {},
   "source": [
    "### Mean\n",
    "- Add all the components and divide by n\n",
    "- Easily affected by outliers\n",
    "\n",
    "### Median\n",
    "- The middlemost option\n",
    "\n",
    "### Mode\n",
    "- The value that occurs most often\n",
    "- No mode if all options occur once (or you can have multiple modes)"
   ]
  }
 ],
 "metadata": {
  "kernelspec": {
   "display_name": "Python 3",
   "language": "python",
   "name": "python3"
  },
  "language_info": {
   "codemirror_mode": {
    "name": "ipython",
    "version": 3
   },
   "file_extension": ".py",
   "mimetype": "text/x-python",
   "name": "python",
   "nbconvert_exporter": "python",
   "pygments_lexer": "ipython3",
   "version": "3.7.6"
  }
 },
 "nbformat": 4,
 "nbformat_minor": 4
}
